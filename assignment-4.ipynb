{
 "cells": [
  {
   "cell_type": "markdown",
   "id": "7f64df77",
   "metadata": {},
   "source": [
    "# Numpy Questions\n",
    "**Import the numpy package under the name np and Print the numpy version and the configuration **\n",
    "\n"
   ]
  },
  {
   "cell_type": "code",
   "execution_count": 2,
   "id": "6104d7c7",
   "metadata": {},
   "outputs": [],
   "source": [
    "import numpy as np"
   ]
  },
  {
   "cell_type": "code",
   "execution_count": 2,
   "id": "5d3c0cee",
   "metadata": {},
   "outputs": [
    {
     "name": "stdout",
     "output_type": "stream",
     "text": [
      "1.19.5\n"
     ]
    }
   ],
   "source": [
    "print(np.__version__)"
   ]
  },
  {
   "cell_type": "code",
   "execution_count": 3,
   "id": "00438201",
   "metadata": {},
   "outputs": [
    {
     "name": "stdout",
     "output_type": "stream",
     "text": [
      "blas_mkl_info:\n",
      "  NOT AVAILABLE\n",
      "blis_info:\n",
      "  NOT AVAILABLE\n",
      "openblas_info:\n",
      "    library_dirs = ['D:\\\\a\\\\1\\\\s\\\\numpy\\\\build\\\\openblas_info']\n",
      "    libraries = ['openblas_info']\n",
      "    language = f77\n",
      "    define_macros = [('HAVE_CBLAS', None)]\n",
      "blas_opt_info:\n",
      "    library_dirs = ['D:\\\\a\\\\1\\\\s\\\\numpy\\\\build\\\\openblas_info']\n",
      "    libraries = ['openblas_info']\n",
      "    language = f77\n",
      "    define_macros = [('HAVE_CBLAS', None)]\n",
      "lapack_mkl_info:\n",
      "  NOT AVAILABLE\n",
      "openblas_lapack_info:\n",
      "    library_dirs = ['D:\\\\a\\\\1\\\\s\\\\numpy\\\\build\\\\openblas_lapack_info']\n",
      "    libraries = ['openblas_lapack_info']\n",
      "    language = f77\n",
      "    define_macros = [('HAVE_CBLAS', None)]\n",
      "lapack_opt_info:\n",
      "    library_dirs = ['D:\\\\a\\\\1\\\\s\\\\numpy\\\\build\\\\openblas_lapack_info']\n",
      "    libraries = ['openblas_lapack_info']\n",
      "    language = f77\n",
      "    define_macros = [('HAVE_CBLAS', None)]\n",
      "None\n"
     ]
    }
   ],
   "source": [
    "print(np.show_config())"
   ]
  },
  {
   "cell_type": "markdown",
   "id": "1afac14f",
   "metadata": {},
   "source": [
    "**2. Create a null vector of size 10**"
   ]
  },
  {
   "cell_type": "code",
   "execution_count": 5,
   "id": "3a6c5618",
   "metadata": {},
   "outputs": [],
   "source": [
    "import numpy as np"
   ]
  },
  {
   "cell_type": "code",
   "execution_count": 6,
   "id": "f73ae4ae",
   "metadata": {},
   "outputs": [
    {
     "name": "stdout",
     "output_type": "stream",
     "text": [
      "[0. 0. 0. 0. 0. 0. 0. 0. 0. 0.]\n"
     ]
    }
   ],
   "source": [
    "x = np.zeros(10)\n",
    "print(x)"
   ]
  },
  {
   "cell_type": "markdown",
   "id": "54ed5a0d",
   "metadata": {},
   "source": [
    "**3. Create Simple 1-D array and check type and check data types in array**"
   ]
  },
  {
   "cell_type": "code",
   "execution_count": 7,
   "id": "00ec2c3d",
   "metadata": {},
   "outputs": [],
   "source": [
    "arr = np.array([1, 2, 3, 4, 5, 600])"
   ]
  },
  {
   "cell_type": "code",
   "execution_count": 8,
   "id": "675dc8cd",
   "metadata": {},
   "outputs": [
    {
     "name": "stdout",
     "output_type": "stream",
     "text": [
      "Array: [  1   2   3   4   5 600]\n",
      "Datatype: int32\n"
     ]
    }
   ],
   "source": [
    "print('Array:', arr)\n",
    "  \n",
    "print('Datatype:', arr.dtype)"
   ]
  },
  {
   "cell_type": "markdown",
   "id": "e68a2b22",
   "metadata": {},
   "source": [
    "**4. How to find number of dimensions, bytes per element and bytes of memory used?**\n"
   ]
  },
  {
   "cell_type": "markdown",
   "id": "be614b7d",
   "metadata": {},
   "source": [
    "**bytes of memory used**"
   ]
  },
  {
   "cell_type": "code",
   "execution_count": 18,
   "id": "f670027b",
   "metadata": {},
   "outputs": [
    {
     "name": "stdout",
     "output_type": "stream",
     "text": [
      "24\n"
     ]
    }
   ],
   "source": [
    "print(arr.nbytes)"
   ]
  },
  {
   "cell_type": "markdown",
   "id": "7fc03184",
   "metadata": {},
   "source": [
    "***dimension***"
   ]
  },
  {
   "cell_type": "code",
   "execution_count": 16,
   "id": "9f0ea862",
   "metadata": {},
   "outputs": [
    {
     "name": "stdout",
     "output_type": "stream",
     "text": [
      "1\n"
     ]
    }
   ],
   "source": [
    "print(arr.ndim)"
   ]
  },
  {
   "cell_type": "markdown",
   "id": "7f898f01",
   "metadata": {},
   "source": [
    "**bytes per element**"
   ]
  },
  {
   "cell_type": "code",
   "execution_count": 17,
   "id": "c8bc5936",
   "metadata": {},
   "outputs": [
    {
     "name": "stdout",
     "output_type": "stream",
     "text": [
      "4\n"
     ]
    }
   ],
   "source": [
    "print(arr.itemsize)"
   ]
  },
  {
   "cell_type": "markdown",
   "id": "bf751db1",
   "metadata": {},
   "source": [
    "**5. Create a null vector of size 10 but the fifth value which is 1**"
   ]
  },
  {
   "cell_type": "code",
   "execution_count": 19,
   "id": "5d051868",
   "metadata": {},
   "outputs": [],
   "source": [
    "x=np.zeros(10)\n",
    "x[4]=1"
   ]
  },
  {
   "cell_type": "code",
   "execution_count": 20,
   "id": "1392ba51",
   "metadata": {},
   "outputs": [
    {
     "name": "stdout",
     "output_type": "stream",
     "text": [
      "[0. 0. 0. 0. 1. 0. 0. 0. 0. 0.]\n"
     ]
    }
   ],
   "source": [
    "print(x)"
   ]
  },
  {
   "cell_type": "markdown",
   "id": "4a9ecb0e",
   "metadata": {},
   "source": [
    "**6. Create a vector with values ranging from 10 to 49**"
   ]
  },
  {
   "cell_type": "code",
   "execution_count": 21,
   "id": "4dfed9d7",
   "metadata": {},
   "outputs": [],
   "source": [
    "vector = np.arange(10,49)"
   ]
  },
  {
   "cell_type": "code",
   "execution_count": 22,
   "id": "8bc45f57",
   "metadata": {},
   "outputs": [
    {
     "name": "stdout",
     "output_type": "stream",
     "text": [
      "Original vector: [10 11 12 13 14 15 16 17 18 19 20 21 22 23 24 25 26 27 28 29 30 31 32 33\n",
      " 34 35 36 37 38 39 40 41 42 43 44 45 46 47 48]\n"
     ]
    }
   ],
   "source": [
    "print(\"Original vector:\", vector)"
   ]
  },
  {
   "cell_type": "markdown",
   "id": "805444f2",
   "metadata": {},
   "source": [
    "**7. Reverse a vector (first element becomes last)**"
   ]
  },
  {
   "cell_type": "code",
   "execution_count": 23,
   "id": "d39aef00",
   "metadata": {},
   "outputs": [],
   "source": [
    "res = vector[::-1]"
   ]
  },
  {
   "cell_type": "code",
   "execution_count": 24,
   "id": "0c09fb76",
   "metadata": {},
   "outputs": [
    {
     "name": "stdout",
     "output_type": "stream",
     "text": [
      "[48 47 46 45 44 43 42 41 40 39 38 37 36 35 34 33 32 31 30 29 28 27 26 25\n",
      " 24 23 22 21 20 19 18 17 16 15 14 13 12 11 10]\n"
     ]
    }
   ],
   "source": [
    "print(res)"
   ]
  },
  {
   "cell_type": "markdown",
   "id": "87cb1adf",
   "metadata": {},
   "source": [
    "**8. Create a 3x3 matrix with values ranging from 0 to 8**"
   ]
  },
  {
   "cell_type": "code",
   "execution_count": 25,
   "id": "542ac430",
   "metadata": {},
   "outputs": [
    {
     "name": "stdout",
     "output_type": "stream",
     "text": [
      "[[0 1 2]\n",
      " [3 4 5]\n",
      " [6 7 8]]\n"
     ]
    }
   ],
   "source": [
    "x =  np.arange(0, 9).reshape(3,3)\n",
    "print(x)"
   ]
  },
  {
   "cell_type": "markdown",
   "id": "59be2870",
   "metadata": {},
   "source": [
    "**9. Find indices of non-zero elements from [1,2,0,0,4,0]**"
   ]
  },
  {
   "cell_type": "code",
   "execution_count": 26,
   "id": "5ced7edb",
   "metadata": {},
   "outputs": [],
   "source": [
    "arr1 = np.array([1,2,0,0,4,0])"
   ]
  },
  {
   "cell_type": "code",
   "execution_count": 28,
   "id": "eb6cc272",
   "metadata": {},
   "outputs": [
    {
     "data": {
      "text/plain": [
       "(array([0, 1, 4], dtype=int64),)"
      ]
     },
     "execution_count": 28,
     "metadata": {},
     "output_type": "execute_result"
    }
   ],
   "source": [
    "np.nonzero(arr1)"
   ]
  },
  {
   "cell_type": "markdown",
   "id": "06f194f3",
   "metadata": {},
   "source": [
    "**10. Create a 3x3 identity matrix**"
   ]
  },
  {
   "cell_type": "code",
   "execution_count": 29,
   "id": "5fca1a63",
   "metadata": {},
   "outputs": [],
   "source": [
    "identity_matrix=np.identity(3)"
   ]
  },
  {
   "cell_type": "code",
   "execution_count": 32,
   "id": "ee14bd26",
   "metadata": {},
   "outputs": [
    {
     "name": "stdout",
     "output_type": "stream",
     "text": [
      "Identity Matrix: \n",
      " [[1. 0. 0.]\n",
      " [0. 1. 0.]\n",
      " [0. 0. 1.]]\n"
     ]
    }
   ],
   "source": [
    "print(\"Identity Matrix: \\n\",identity_matrix)"
   ]
  },
  {
   "cell_type": "markdown",
   "id": "555c75d9",
   "metadata": {},
   "source": [
    "**11. Create a 3x3x3 array with random values**"
   ]
  },
  {
   "cell_type": "code",
   "execution_count": 34,
   "id": "2a0fb38e",
   "metadata": {},
   "outputs": [],
   "source": [
    "rnd = np.random.random((3,3,3))"
   ]
  },
  {
   "cell_type": "code",
   "execution_count": 35,
   "id": "945c89e0",
   "metadata": {},
   "outputs": [
    {
     "name": "stdout",
     "output_type": "stream",
     "text": [
      "[[0 1 2]\n",
      " [3 4 5]\n",
      " [6 7 8]]\n"
     ]
    }
   ],
   "source": [
    "print(x)"
   ]
  },
  {
   "cell_type": "markdown",
   "id": "22f8b1f4",
   "metadata": {},
   "source": [
    "**12. Create a 10x10 array with random values and find the minimum and maximum values**"
   ]
  },
  {
   "cell_type": "code",
   "execution_count": 37,
   "id": "4e51b679",
   "metadata": {},
   "outputs": [],
   "source": [
    "y = np.random.random((10,10))"
   ]
  },
  {
   "cell_type": "code",
   "execution_count": 38,
   "id": "4e179d28",
   "metadata": {},
   "outputs": [],
   "source": [
    "ymin, ymax = y.min(), y.max()"
   ]
  },
  {
   "cell_type": "code",
   "execution_count": 39,
   "id": "21071e6d",
   "metadata": {},
   "outputs": [
    {
     "name": "stdout",
     "output_type": "stream",
     "text": [
      "[[0.77558194 0.9077484  0.40692576 0.89689909 0.54326505 0.060516\n",
      "  0.35896887 0.81133811 0.27712052 0.93585948]\n",
      " [0.70838561 0.90289766 0.5696577  0.24072619 0.72463352 0.68675506\n",
      "  0.42256707 0.57399592 0.24088607 0.77968774]\n",
      " [0.258086   0.66407133 0.91451724 0.96272437 0.03765141 0.19612397\n",
      "  0.04863249 0.47032578 0.22983588 0.52140211]\n",
      " [0.20882267 0.00178489 0.61089733 0.18250817 0.42349201 0.11958934\n",
      "  0.00307906 0.98927364 0.33451984 0.34665379]\n",
      " [0.2282833  0.16129999 0.18696493 0.55250563 0.01062793 0.30410783\n",
      "  0.0642549  0.76312014 0.84229516 0.94784803]\n",
      " [0.65478416 0.61164824 0.19891509 0.16687022 0.49970337 0.93036858\n",
      "  0.96565513 0.38373441 0.11623775 0.24886097]\n",
      " [0.99522846 0.28462657 0.92004032 0.88157369 0.32747881 0.24148927\n",
      "  0.49675947 0.86994502 0.49180929 0.6220665 ]\n",
      " [0.28564912 0.33543973 0.94357308 0.86411005 0.86895317 0.01818704\n",
      "  0.55932764 0.72879158 0.64799704 0.66842232]\n",
      " [0.31139669 0.41746383 0.19689325 0.28274551 0.66530347 0.88458534\n",
      "  0.83446896 0.27961833 0.1907021  0.88749213]\n",
      " [0.14118254 0.75191058 0.47661746 0.16282734 0.17691794 0.11293127\n",
      "  0.60644356 0.52433673 0.05323868 0.31058691]]\n"
     ]
    }
   ],
   "source": [
    "print(y)"
   ]
  },
  {
   "cell_type": "code",
   "execution_count": 40,
   "id": "aea829a4",
   "metadata": {},
   "outputs": [
    {
     "name": "stdout",
     "output_type": "stream",
     "text": [
      "0.0017848933234855258 0.9952284634469685\n"
     ]
    }
   ],
   "source": [
    "print(ymin, ymax)"
   ]
  },
  {
   "cell_type": "markdown",
   "id": "56da0264",
   "metadata": {},
   "source": [
    "**13. Create a random vector of size 30 and find the mean value**"
   ]
  },
  {
   "cell_type": "code",
   "execution_count": 43,
   "id": "5e8deca6",
   "metadata": {},
   "outputs": [
    {
     "name": "stdout",
     "output_type": "stream",
     "text": [
      "Original vector: \n",
      " [0.61572429 0.30864521 0.09174358 0.83871816 0.14572985 0.93479798\n",
      " 0.84761832 0.85398242 0.44850049 0.88005386 0.11634965 0.21839776\n",
      " 0.19935235 0.24799353 0.10207229 0.29061588 0.14006944 0.99901715\n",
      " 0.90536088 0.99606086 0.07703694 0.98132773 0.64852605 0.29830601\n",
      " 0.79001933 0.34494399 0.35896785 0.26626    0.75752216 0.37391105]\n"
     ]
    }
   ],
   "source": [
    "z = np.random.random(30)\n",
    "print(\"Original vector: \\n\",z)"
   ]
  },
  {
   "cell_type": "code",
   "execution_count": 44,
   "id": "a6d1d32b",
   "metadata": {},
   "outputs": [],
   "source": [
    "a=np.mean(z)"
   ]
  },
  {
   "cell_type": "code",
   "execution_count": 45,
   "id": "b39b4ea8",
   "metadata": {},
   "outputs": [
    {
     "name": "stdout",
     "output_type": "stream",
     "text": [
      "Mean:\n",
      " 0.5025875022776188\n"
     ]
    }
   ],
   "source": [
    "print(\"Mean:\\n\",a)"
   ]
  },
  {
   "cell_type": "markdown",
   "id": "298d1417",
   "metadata": {},
   "source": [
    "**14. Create a 2d array with 1 on the border and 0 inside**"
   ]
  },
  {
   "cell_type": "code",
   "execution_count": 46,
   "id": "3e89a2ae",
   "metadata": {},
   "outputs": [
    {
     "name": "stdout",
     "output_type": "stream",
     "text": [
      "Original array: \n",
      " [[1. 1. 1. 1. 1.]\n",
      " [1. 1. 1. 1. 1.]\n",
      " [1. 1. 1. 1. 1.]\n",
      " [1. 1. 1. 1. 1.]\n",
      " [1. 1. 1. 1. 1.]]\n"
     ]
    }
   ],
   "source": [
    "k = np.ones((5,5))\n",
    "print(\"Original array: \\n\",k)"
   ]
  },
  {
   "cell_type": "code",
   "execution_count": 47,
   "id": "5e763dbe",
   "metadata": {},
   "outputs": [],
   "source": [
    "k[1:-1,1:-1] = 0"
   ]
  },
  {
   "cell_type": "code",
   "execution_count": 48,
   "id": "edab7a72",
   "metadata": {},
   "outputs": [
    {
     "name": "stdout",
     "output_type": "stream",
     "text": [
      "1 on the border and 0 inside--> \n",
      " [[1. 1. 1. 1. 1.]\n",
      " [1. 0. 0. 0. 1.]\n",
      " [1. 0. 0. 0. 1.]\n",
      " [1. 0. 0. 0. 1.]\n",
      " [1. 1. 1. 1. 1.]]\n"
     ]
    }
   ],
   "source": [
    "print(\"1 on the border and 0 inside--> \\n\",k)"
   ]
  },
  {
   "cell_type": "markdown",
   "id": "28c74e2b",
   "metadata": {},
   "source": [
    "**15. How to add a border (filled with 0's) around an existing array?**"
   ]
  },
  {
   "cell_type": "code",
   "execution_count": 50,
   "id": "66ca4b45",
   "metadata": {},
   "outputs": [],
   "source": [
    "l = np.ones((3,3))"
   ]
  },
  {
   "cell_type": "code",
   "execution_count": 51,
   "id": "80609fd3",
   "metadata": {},
   "outputs": [
    {
     "name": "stdout",
     "output_type": "stream",
     "text": [
      "Original array: [[1. 1. 1.]\n",
      " [1. 1. 1.]\n",
      " [1. 1. 1.]]\n"
     ]
    }
   ],
   "source": [
    "print(\"Original array:\",l)"
   ]
  },
  {
   "cell_type": "code",
   "execution_count": 52,
   "id": "68a70951",
   "metadata": {},
   "outputs": [
    {
     "name": "stdout",
     "output_type": "stream",
     "text": [
      "new array: \n",
      " [[0. 0. 0. 0. 0.]\n",
      " [0. 1. 1. 1. 0.]\n",
      " [0. 1. 1. 1. 0.]\n",
      " [0. 1. 1. 1. 0.]\n",
      " [0. 0. 0. 0. 0.]]\n"
     ]
    }
   ],
   "source": [
    "l = np.pad(l, pad_width=1, mode='constant', constant_values=0)\n",
    "print(\"new array: \\n\",l)"
   ]
  },
  {
   "cell_type": "markdown",
   "id": "ab1754df",
   "metadata": {},
   "source": [
    "**16. How to Accessing/Changing specific elements, rows, columns, etc in Numpy array?**"
   ]
  },
  {
   "cell_type": "code",
   "execution_count": 55,
   "id": "3bca43d5",
   "metadata": {},
   "outputs": [],
   "source": [
    "p=np.array([[ 1,2, 3, 4, 5, 6, 7],[ 8, 9, 10, 11, 12, 13, 14]])"
   ]
  },
  {
   "cell_type": "markdown",
   "id": "369e2a68",
   "metadata": {},
   "source": [
    "**get first row**"
   ]
  },
  {
   "cell_type": "code",
   "execution_count": 56,
   "id": "105e16b1",
   "metadata": {},
   "outputs": [
    {
     "data": {
      "text/plain": [
       "array([1, 2, 3, 4, 5, 6, 7])"
      ]
     },
     "execution_count": 56,
     "metadata": {},
     "output_type": "execute_result"
    }
   ],
   "source": [
    "p[0]"
   ]
  },
  {
   "cell_type": "markdown",
   "id": "423fbe22",
   "metadata": {},
   "source": [
    "**get 3rd column**"
   ]
  },
  {
   "cell_type": "code",
   "execution_count": 57,
   "id": "2dda463d",
   "metadata": {},
   "outputs": [
    {
     "data": {
      "text/plain": [
       "array([ 3, 10])"
      ]
     },
     "execution_count": 57,
     "metadata": {},
     "output_type": "execute_result"
    }
   ],
   "source": [
    " p[:, 2]"
   ]
  },
  {
   "cell_type": "markdown",
   "id": "f5bb4af5",
   "metadata": {},
   "source": [
    "**get 13**"
   ]
  },
  {
   "cell_type": "code",
   "execution_count": 58,
   "id": "604ab0ca",
   "metadata": {},
   "outputs": [
    {
     "data": {
      "text/plain": [
       "13"
      ]
     },
     "execution_count": 58,
     "metadata": {},
     "output_type": "execute_result"
    }
   ],
   "source": [
    "p[1,5]"
   ]
  },
  {
   "cell_type": "markdown",
   "id": "2a2168d6",
   "metadata": {},
   "source": [
    "**get [2, 4, 6]**"
   ]
  },
  {
   "cell_type": "code",
   "execution_count": 66,
   "id": "c422fab9",
   "metadata": {},
   "outputs": [
    {
     "name": "stdout",
     "output_type": "stream",
     "text": [
      "get[2,4,6]--> 2 4 6\n"
     ]
    }
   ],
   "source": [
    "print(\"get[2,4,6]-->\",p[0,1],p[0,3],p[0,5])"
   ]
  },
  {
   "cell_type": "markdown",
   "id": "9e30512a",
   "metadata": {},
   "source": [
    "**replace 13 by 20**"
   ]
  },
  {
   "cell_type": "code",
   "execution_count": 67,
   "id": "253487eb",
   "metadata": {},
   "outputs": [
    {
     "data": {
      "text/plain": [
       "20"
      ]
     },
     "execution_count": 67,
     "metadata": {},
     "output_type": "execute_result"
    }
   ],
   "source": [
    "p[1,5] =20\n",
    "p[1,5]"
   ]
  },
  {
   "cell_type": "markdown",
   "id": "446da393",
   "metadata": {},
   "source": [
    "**17. How to Convert a 1D array to a 2D array with 2 rows**"
   ]
  },
  {
   "cell_type": "code",
   "execution_count": 70,
   "id": "82a47f8c",
   "metadata": {},
   "outputs": [
    {
     "name": "stdout",
     "output_type": "stream",
     "text": [
      "original:\n",
      " [0 1 2 3 4 5 6 7 8 9]\n",
      "2d array:\n",
      " [[0 1 2 3 4]\n",
      " [5 6 7 8 9]]\n"
     ]
    }
   ],
   "source": [
    "m = np.array([0, 1, 2, 3, 4, 5, 6, 7, 8, 9])\n",
    "print(\"original:\\n\",m)\n",
    "arr_2d = np.reshape(m, (2, 5))\n",
    "print(\"2d array:\\n\",arr_2d)"
   ]
  },
  {
   "cell_type": "markdown",
   "id": "08fc6459",
   "metadata": {},
   "source": [
    " **18. Create the following pattern without hardcoding. Use only numpy functions and the below input array a.**\n",
    "\n",
    "**Input:**\n",
    "\n",
    "**a = np.array([1,2,3])**`\n",
    "**Desired Output:**\n",
    "\n",
    "** array([1, 1, 1, 2, 2, 2, 3, 3, 3, 1, 2, 3, 1, 2, 3, 1, 2, 3])**"
   ]
  },
  {
   "cell_type": "code",
   "execution_count": 7,
   "id": "5f582852",
   "metadata": {},
   "outputs": [
    {
     "name": "stdout",
     "output_type": "stream",
     "text": [
      "array:\n",
      " [1 1 1 2 2 2 3 3 3]\n"
     ]
    }
   ],
   "source": [
    "c = np.array([1,2,3])\n",
    "d = np.array([3,3,3])\n",
    "print(\"array:\\n\",np.repeat(c, d))"
   ]
  },
  {
   "cell_type": "markdown",
   "id": "6fb8fe24",
   "metadata": {},
   "source": [
    "**19. Write a program to show how Numpy taking less memory compared to Python List?**"
   ]
  },
  {
   "cell_type": "code",
   "execution_count": 8,
   "id": "265a586b",
   "metadata": {},
   "outputs": [],
   "source": [
    "import time \n",
    "import sys"
   ]
  },
  {
   "cell_type": "code",
   "execution_count": 9,
   "id": "5098c125",
   "metadata": {},
   "outputs": [
    {
     "name": "stdout",
     "output_type": "stream",
     "text": [
      "Size of NumPy array:  16\n"
     ]
    }
   ],
   "source": [
    "array = np.arange(100)\n",
    "print(\"Size of NumPy array: \", array.itemsize * array.itemsize)"
   ]
  },
  {
   "cell_type": "code",
   "execution_count": 10,
   "id": "16dea342",
   "metadata": {},
   "outputs": [
    {
     "name": "stdout",
     "output_type": "stream",
     "text": [
      "Size of list:  280\n"
     ]
    }
   ],
   "source": [
    "list = range(0, 10)\n",
    "print(\"Size of list: \", sys.getsizeof(1)*len(list))"
   ]
  },
  {
   "cell_type": "markdown",
   "id": "15c0f5c0",
   "metadata": {},
   "source": [
    "**20. Write a program to show how Numpy taking less time compared to Python List?**"
   ]
  },
  {
   "cell_type": "code",
   "execution_count": 12,
   "id": "a989c197",
   "metadata": {},
   "outputs": [
    {
     "name": "stdout",
     "output_type": "stream",
     "text": [
      "Time for Python List in msec:  33.94651412963867\n"
     ]
    }
   ],
   "source": [
    "Size = 100000\n",
    "\n",
    "list1 = range(Size)\n",
    "list2 = range(Size)\n",
    "\n",
    "arr2 = np.arange(Size)\n",
    "arr3 = np.arange(Size)\n",
    "\n",
    "start = time.time()\n",
    "result = [(x, y) for x, y in zip(list1, list2)]\n",
    "          \n",
    "print(\"Time for Python List in msec: \", (time.time() - start) * 1000)\n"
   ]
  },
  {
   "cell_type": "code",
   "execution_count": 15,
   "id": "0890c524",
   "metadata": {},
   "outputs": [
    {
     "name": "stdout",
     "output_type": "stream",
     "text": [
      "Time for NumPy array in msec:  5.01561164855957\n"
     ]
    }
   ],
   "source": [
    "start = time.time()\n",
    "result = arr2,   arr3\n",
    "print(\"Time for NumPy array in msec: \", (time.time()- start) * 1000)\n"
   ]
  },
  {
   "cell_type": "code",
   "execution_count": null,
   "id": "30646c7b",
   "metadata": {},
   "outputs": [],
   "source": []
  }
 ],
 "metadata": {
  "kernelspec": {
   "display_name": "Python 3",
   "language": "python",
   "name": "python3"
  },
  "language_info": {
   "codemirror_mode": {
    "name": "ipython",
    "version": 3
   },
   "file_extension": ".py",
   "mimetype": "text/x-python",
   "name": "python",
   "nbconvert_exporter": "python",
   "pygments_lexer": "ipython3",
   "version": "3.8.3"
  }
 },
 "nbformat": 4,
 "nbformat_minor": 5
}
